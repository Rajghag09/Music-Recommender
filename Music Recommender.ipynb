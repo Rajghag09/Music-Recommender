{
 "cells": [
  {
   "cell_type": "code",
   "execution_count": 113,
   "id": "61c9047e",
   "metadata": {},
   "outputs": [],
   "source": [
    "import pandas as pd"
   ]
  },
  {
   "cell_type": "code",
   "execution_count": 114,
   "id": "f00f41b4",
   "metadata": {},
   "outputs": [],
   "source": [
    "df = pd.read_csv(\"spotify_millsongdata.csv\")"
   ]
  },
  {
   "cell_type": "code",
   "execution_count": 115,
   "id": "f0869c92",
   "metadata": {},
   "outputs": [
    {
     "data": {
      "text/html": [
       "<div>\n",
       "<style scoped>\n",
       "    .dataframe tbody tr th:only-of-type {\n",
       "        vertical-align: middle;\n",
       "    }\n",
       "\n",
       "    .dataframe tbody tr th {\n",
       "        vertical-align: top;\n",
       "    }\n",
       "\n",
       "    .dataframe thead th {\n",
       "        text-align: right;\n",
       "    }\n",
       "</style>\n",
       "<table border=\"1\" class=\"dataframe\">\n",
       "  <thead>\n",
       "    <tr style=\"text-align: right;\">\n",
       "      <th></th>\n",
       "      <th>artist</th>\n",
       "      <th>song</th>\n",
       "      <th>link</th>\n",
       "      <th>text</th>\n",
       "    </tr>\n",
       "  </thead>\n",
       "  <tbody>\n",
       "    <tr>\n",
       "      <th>0</th>\n",
       "      <td>ABBA</td>\n",
       "      <td>Ahe's My Kind Of Girl</td>\n",
       "      <td>/a/abba/ahes+my+kind+of+girl_20598417.html</td>\n",
       "      <td>Look at her face, it's a wonderful face  \\r\\nA...</td>\n",
       "    </tr>\n",
       "    <tr>\n",
       "      <th>1</th>\n",
       "      <td>ABBA</td>\n",
       "      <td>Andante, Andante</td>\n",
       "      <td>/a/abba/andante+andante_20002708.html</td>\n",
       "      <td>Take it easy with me, please  \\r\\nTouch me gen...</td>\n",
       "    </tr>\n",
       "    <tr>\n",
       "      <th>2</th>\n",
       "      <td>ABBA</td>\n",
       "      <td>As Good As New</td>\n",
       "      <td>/a/abba/as+good+as+new_20003033.html</td>\n",
       "      <td>I'll never know why I had to go  \\r\\nWhy I had...</td>\n",
       "    </tr>\n",
       "    <tr>\n",
       "      <th>3</th>\n",
       "      <td>ABBA</td>\n",
       "      <td>Bang</td>\n",
       "      <td>/a/abba/bang_20598415.html</td>\n",
       "      <td>Making somebody happy is a question of give an...</td>\n",
       "    </tr>\n",
       "    <tr>\n",
       "      <th>4</th>\n",
       "      <td>ABBA</td>\n",
       "      <td>Bang-A-Boomerang</td>\n",
       "      <td>/a/abba/bang+a+boomerang_20002668.html</td>\n",
       "      <td>Making somebody happy is a question of give an...</td>\n",
       "    </tr>\n",
       "  </tbody>\n",
       "</table>\n",
       "</div>"
      ],
      "text/plain": [
       "  artist                   song                                        link  \\\n",
       "0   ABBA  Ahe's My Kind Of Girl  /a/abba/ahes+my+kind+of+girl_20598417.html   \n",
       "1   ABBA       Andante, Andante       /a/abba/andante+andante_20002708.html   \n",
       "2   ABBA         As Good As New        /a/abba/as+good+as+new_20003033.html   \n",
       "3   ABBA                   Bang                  /a/abba/bang_20598415.html   \n",
       "4   ABBA       Bang-A-Boomerang      /a/abba/bang+a+boomerang_20002668.html   \n",
       "\n",
       "                                                text  \n",
       "0  Look at her face, it's a wonderful face  \\r\\nA...  \n",
       "1  Take it easy with me, please  \\r\\nTouch me gen...  \n",
       "2  I'll never know why I had to go  \\r\\nWhy I had...  \n",
       "3  Making somebody happy is a question of give an...  \n",
       "4  Making somebody happy is a question of give an...  "
      ]
     },
     "execution_count": 115,
     "metadata": {},
     "output_type": "execute_result"
    }
   ],
   "source": [
    "df.head()"
   ]
  },
  {
   "cell_type": "code",
   "execution_count": 116,
   "id": "4096d0f4",
   "metadata": {},
   "outputs": [
    {
     "data": {
      "text/plain": [
       "artist    0\n",
       "song      0\n",
       "link      0\n",
       "text      0\n",
       "dtype: int64"
      ]
     },
     "execution_count": 116,
     "metadata": {},
     "output_type": "execute_result"
    }
   ],
   "source": [
    "df.isnull().sum()"
   ]
  },
  {
   "cell_type": "code",
   "execution_count": 117,
   "id": "008a08ba",
   "metadata": {},
   "outputs": [],
   "source": [
    "df =df.sample(5000).drop('link', axis=1).reset_index(drop=True)"
   ]
  },
  {
   "cell_type": "code",
   "execution_count": 118,
   "id": "1fdd8ece",
   "metadata": {},
   "outputs": [
    {
     "data": {
      "text/plain": [
       "(5000, 3)"
      ]
     },
     "execution_count": 118,
     "metadata": {},
     "output_type": "execute_result"
    }
   ],
   "source": [
    "df.shape"
   ]
  },
  {
   "cell_type": "code",
   "execution_count": 119,
   "id": "e7bbd621",
   "metadata": {},
   "outputs": [
    {
     "data": {
      "text/html": [
       "<div>\n",
       "<style scoped>\n",
       "    .dataframe tbody tr th:only-of-type {\n",
       "        vertical-align: middle;\n",
       "    }\n",
       "\n",
       "    .dataframe tbody tr th {\n",
       "        vertical-align: top;\n",
       "    }\n",
       "\n",
       "    .dataframe thead th {\n",
       "        text-align: right;\n",
       "    }\n",
       "</style>\n",
       "<table border=\"1\" class=\"dataframe\">\n",
       "  <thead>\n",
       "    <tr style=\"text-align: right;\">\n",
       "      <th></th>\n",
       "      <th>artist</th>\n",
       "      <th>song</th>\n",
       "      <th>text</th>\n",
       "    </tr>\n",
       "  </thead>\n",
       "  <tbody>\n",
       "    <tr>\n",
       "      <th>0</th>\n",
       "      <td>Doris Day</td>\n",
       "      <td>Everybody Loves A Lover</td>\n",
       "      <td>Everybody loves a lover  \\r\\nI'm a lover, ever...</td>\n",
       "    </tr>\n",
       "    <tr>\n",
       "      <th>1</th>\n",
       "      <td>Bruce Springsteen</td>\n",
       "      <td>Dancing In The Dark</td>\n",
       "      <td>I get up in the evening, and I ain't got nothi...</td>\n",
       "    </tr>\n",
       "    <tr>\n",
       "      <th>2</th>\n",
       "      <td>Wilson Phillips</td>\n",
       "      <td>Fueled For Houston</td>\n",
       "      <td>Fueled for Houston  \\r\\nI missed all my calls ...</td>\n",
       "    </tr>\n",
       "    <tr>\n",
       "      <th>3</th>\n",
       "      <td>Loretta Lynn</td>\n",
       "      <td>Act Naturally</td>\n",
       "      <td>They're gonna put me in the movies they're gon...</td>\n",
       "    </tr>\n",
       "    <tr>\n",
       "      <th>4</th>\n",
       "      <td>Zao</td>\n",
       "      <td>All Else Failed</td>\n",
       "      <td>(A throne in Heaven sat empty for 33 years.) W...</td>\n",
       "    </tr>\n",
       "  </tbody>\n",
       "</table>\n",
       "</div>"
      ],
      "text/plain": [
       "              artist                     song  \\\n",
       "0          Doris Day  Everybody Loves A Lover   \n",
       "1  Bruce Springsteen      Dancing In The Dark   \n",
       "2    Wilson Phillips       Fueled For Houston   \n",
       "3       Loretta Lynn            Act Naturally   \n",
       "4                Zao          All Else Failed   \n",
       "\n",
       "                                                text  \n",
       "0  Everybody loves a lover  \\r\\nI'm a lover, ever...  \n",
       "1  I get up in the evening, and I ain't got nothi...  \n",
       "2  Fueled for Houston  \\r\\nI missed all my calls ...  \n",
       "3  They're gonna put me in the movies they're gon...  \n",
       "4  (A throne in Heaven sat empty for 33 years.) W...  "
      ]
     },
     "execution_count": 119,
     "metadata": {},
     "output_type": "execute_result"
    }
   ],
   "source": [
    "df.head()"
   ]
  },
  {
   "cell_type": "code",
   "execution_count": 120,
   "id": "01dd8b92",
   "metadata": {},
   "outputs": [
    {
     "data": {
      "text/plain": [
       "\"Everybody loves a lover  \\r\\nI'm a lover, everybody loves me  \\r\\nAnyhow, that's how I feel  \\r\\nWow, I feel just like a Pollyanna  \\r\\n  \\r\\nI should worry, not for nothin'  \\r\\nEverybody loves me, yes they do  \\r\\nAnd I love everybody  \\r\\nSince I fell in love with you  \\r\\n  \\r\\nWho's the most popular personality?  \\r\\nI can't help thinkin' it's no one else but me  \\r\\nGee, I feel just about ten feet tall, havin' a ball  \\r\\nGuess ya might call me a Pollyanna  \\r\\n  \\r\\nEverybody loves a lover  \\r\\n  \\r\\nI should worry, not for nothin'  \\r\\nEverybody loves me, yes they do  \\r\\nAnd I love everybody  \\r\\nSince I fell in love with  \\r\\nFell in love with  \\r\\nFell in love with you...  \\r\\n  \\r\\n(Call me a Pollyanna, do)\\r\\n\\r\\n\""
      ]
     },
     "execution_count": 120,
     "metadata": {},
     "output_type": "execute_result"
    }
   ],
   "source": [
    "df['text'][0]"
   ]
  },
  {
   "cell_type": "code",
   "execution_count": 121,
   "id": "0a5753e4",
   "metadata": {},
   "outputs": [
    {
     "data": {
      "text/plain": [
       "0       everybody loves a lover  \\r i'm a lover, every...\n",
       "1       i get up in the evening, and i ain't got nothi...\n",
       "2       fueled for houston  \\r i missed all my calls t...\n",
       "3       they're gonna put me in the movies they're gon...\n",
       "4       (a throne in heaven sat empty for 33 years.) w...\n",
       "                              ...                        \n",
       "4995    shadows falling in the noonday sun  \\r blue fe...\n",
       "4996    so many things i think about  \\r when i look f...\n",
       "4997    if there were no dreams  \\r and there were no ...\n",
       "4998    to thomas s.eiselberg, a very rich man, who wa...\n",
       "4999    i need a woman 'bout twice my age  \\r a lady o...\n",
       "Name: text, Length: 5000, dtype: object"
      ]
     },
     "execution_count": 121,
     "metadata": {},
     "output_type": "execute_result"
    }
   ],
   "source": [
    "df['text'].str.lower().replace(r'^\\w\\s', ' ').replace(r'\\n', ' ', regex = True)"
   ]
  },
  {
   "cell_type": "code",
   "execution_count": 122,
   "id": "d32696d0",
   "metadata": {},
   "outputs": [
    {
     "data": {
      "text/plain": [
       "\"Everybody loves a lover  \\r\\nI'm a lover, everybody loves me  \\r\\nAnyhow, that's how I feel  \\r\\nWow, I feel just like a Pollyanna  \\r\\n  \\r\\nI should worry, not for nothin'  \\r\\nEverybody loves me, yes they do  \\r\\nAnd I love everybody  \\r\\nSince I fell in love with you  \\r\\n  \\r\\nWho's the most popular personality?  \\r\\nI can't help thinkin' it's no one else but me  \\r\\nGee, I feel just about ten feet tall, havin' a ball  \\r\\nGuess ya might call me a Pollyanna  \\r\\n  \\r\\nEverybody loves a lover  \\r\\n  \\r\\nI should worry, not for nothin'  \\r\\nEverybody loves me, yes they do  \\r\\nAnd I love everybody  \\r\\nSince I fell in love with  \\r\\nFell in love with  \\r\\nFell in love with you...  \\r\\n  \\r\\n(Call me a Pollyanna, do)\\r\\n\\r\\n\""
      ]
     },
     "execution_count": 122,
     "metadata": {},
     "output_type": "execute_result"
    }
   ],
   "source": [
    "df['text'][0]"
   ]
  },
  {
   "cell_type": "code",
   "execution_count": 123,
   "id": "30b3b4a1",
   "metadata": {},
   "outputs": [],
   "source": [
    "import nltk\n",
    "from nltk.stem.porter import PorterStemmer\n",
    "stemmer = PorterStemmer()"
   ]
  },
  {
   "cell_type": "code",
   "execution_count": 124,
   "id": "a0cc6a94",
   "metadata": {},
   "outputs": [],
   "source": [
    "import nltk\n",
    "from nltk.stem.porter import PorterStemmer\n",
    "stemmer = PorterStemmer()\n",
    "\n",
    "def tokenization(txt):\n",
    "    tokens = nltk.word_tokenize(txt)\n",
    "    stemming = [stemmer.stem(w) for w in tokens]\n",
    "    return \" \".join(stemming)"
   ]
  },
  {
   "cell_type": "code",
   "execution_count": 125,
   "id": "dfeb425b",
   "metadata": {},
   "outputs": [
    {
     "data": {
      "text/plain": [
       "0       everybodi love a lover i 'm a lover , everybod...\n",
       "1       i get up in the even , and i ai n't got noth t...\n",
       "2       fuel for houston i miss all my call thi morn t...\n",
       "3       they 're gon na put me in the movi they 're go...\n",
       "4       ( a throne in heaven sat empti for 33 year . )...\n",
       "                              ...                        \n",
       "4995    shadow fall in the noonday sun blue feel to th...\n",
       "4996    so mani thing i think about when i look far aw...\n",
       "4997    if there were no dream and there were no dream...\n",
       "4998    to thoma s.eiselberg , a veri rich man , who w...\n",
       "4999    i need a woman 'bout twice my age a ladi of no...\n",
       "Name: text, Length: 5000, dtype: object"
      ]
     },
     "execution_count": 125,
     "metadata": {},
     "output_type": "execute_result"
    }
   ],
   "source": [
    "df['text'].apply(lambda x: tokenization(x))"
   ]
  },
  {
   "cell_type": "code",
   "execution_count": 126,
   "id": "3b7a08c0",
   "metadata": {},
   "outputs": [],
   "source": [
    "from sklearn.feature_extraction.text import TfidfVectorizer\n",
    "from sklearn.metrics.pairwise import cosine_similarity"
   ]
  },
  {
   "cell_type": "code",
   "execution_count": 127,
   "id": "e42f3993",
   "metadata": {},
   "outputs": [],
   "source": [
    "tfidvector = TfidfVectorizer(analyzer='word',stop_words='english')\n",
    "matrix = tfidvector.fit_transform(df['text'])\n",
    "similarity = cosine_similarity(matrix)"
   ]
  },
  {
   "cell_type": "code",
   "execution_count": 128,
   "id": "e15b3d82",
   "metadata": {},
   "outputs": [
    {
     "data": {
      "text/plain": [
       "array([1.00000000e+00, 2.71186564e-02, 1.10239599e-02, ...,\n",
       "       3.54979680e-02, 9.66973653e-04, 6.48364629e-03])"
      ]
     },
     "execution_count": 128,
     "metadata": {},
     "output_type": "execute_result"
    }
   ],
   "source": [
    "similarity[0]"
   ]
  },
  {
   "cell_type": "code",
   "execution_count": 130,
   "id": "2120dd8d",
   "metadata": {},
   "outputs": [
    {
     "data": {
      "text/plain": [
       "1"
      ]
     },
     "execution_count": 130,
     "metadata": {},
     "output_type": "execute_result"
    }
   ],
   "source": [
    "df[df['song'] == 'Dancing In The Dark'].index[0]"
   ]
  },
  {
   "cell_type": "code",
   "execution_count": 131,
   "id": "36c532ed",
   "metadata": {},
   "outputs": [],
   "source": [
    "def recommendation(song_df):\n",
    "    idx = df[df['song'] == song_df].index[0]\n",
    "    distances = sorted(list(enumerate(similarity[idx])),reverse=True,key=lambda x:x[1])\n",
    "    \n",
    "    songs = []\n",
    "    for m_id in distances[1:5]:\n",
    "        songs.append(df.iloc[m_id[0]].song)\n",
    "        \n",
    "    return songs"
   ]
  },
  {
   "cell_type": "code",
   "execution_count": 132,
   "id": "9a7aafd9",
   "metadata": {},
   "outputs": [
    {
     "data": {
      "text/plain": [
       "[\"Just Can't Get Enough\", 'Dancing On The Ceiling', 'Just Fine', 'In The Dark']"
      ]
     },
     "execution_count": 132,
     "metadata": {},
     "output_type": "execute_result"
    }
   ],
   "source": [
    "recommendation('Dancing In The Dark')"
   ]
  },
  {
   "cell_type": "code",
   "execution_count": null,
   "id": "7452b1ee",
   "metadata": {},
   "outputs": [],
   "source": []
  }
 ],
 "metadata": {
  "kernelspec": {
   "display_name": "Python 3 (ipykernel)",
   "language": "python",
   "name": "python3"
  },
  "language_info": {
   "codemirror_mode": {
    "name": "ipython",
    "version": 3
   },
   "file_extension": ".py",
   "mimetype": "text/x-python",
   "name": "python",
   "nbconvert_exporter": "python",
   "pygments_lexer": "ipython3",
   "version": "3.9.13"
  }
 },
 "nbformat": 4,
 "nbformat_minor": 5
}
